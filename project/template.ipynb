{
 "cells": [
  {
   "attachments": {},
   "cell_type": "markdown",
   "metadata": {},
   "source": [
    "# Welcome to Full Stack Machine Learning's Week 4 Project!\n",
    "\n",
    "In the final week, you will return to the workflow you built last week on the [taxi dataset](https://www.nyc.gov/site/tlc/about/tlc-trip-record-data.page). "
   ]
  },
  {
   "cell_type": "code",
   "execution_count": 1,
   "metadata": {},
   "outputs": [
    {
     "data": {
      "text/plain": [
       "'2.9.7'"
      ]
     },
     "execution_count": 1,
     "metadata": {},
     "output_type": "execute_result"
    }
   ],
   "source": [
    "import metaflow\n",
    "metaflow.__version__"
   ]
  },
  {
   "cell_type": "code",
   "execution_count": 2,
   "metadata": {},
   "outputs": [
    {
     "name": "stdout",
     "output_type": "stream",
     "text": [
      "\u001b[33mWARNING: Ignoring invalid distribution -etaflow (/home/workspace/mambaforge/envs/full-stack-metaflow-corise/lib/python3.10/site-packages)\u001b[0m\u001b[33m\n",
      "\u001b[0m\u001b[33mWARNING: Ignoring invalid distribution -etaflow (/home/workspace/mambaforge/envs/full-stack-metaflow-corise/lib/python3.10/site-packages)\u001b[0m\u001b[33m\n",
      "\u001b[0mRequirement already satisfied: metaflow==2.9.7 in /home/workspace/mambaforge/envs/full-stack-metaflow-corise/lib/python3.10/site-packages (2.9.7)\n",
      "Requirement already satisfied: boto3 in /home/workspace/mambaforge/envs/full-stack-metaflow-corise/lib/python3.10/site-packages (from metaflow==2.9.7) (1.26.164)\n",
      "Requirement already satisfied: requests in /home/workspace/mambaforge/envs/full-stack-metaflow-corise/lib/python3.10/site-packages (from metaflow==2.9.7) (2.31.0)\n",
      "Requirement already satisfied: s3transfer<0.7.0,>=0.6.0 in /home/workspace/mambaforge/envs/full-stack-metaflow-corise/lib/python3.10/site-packages (from boto3->metaflow==2.9.7) (0.6.1)\n",
      "Requirement already satisfied: botocore<1.30.0,>=1.29.164 in /home/workspace/mambaforge/envs/full-stack-metaflow-corise/lib/python3.10/site-packages (from boto3->metaflow==2.9.7) (1.29.164)\n",
      "Requirement already satisfied: jmespath<2.0.0,>=0.7.1 in /home/workspace/mambaforge/envs/full-stack-metaflow-corise/lib/python3.10/site-packages (from boto3->metaflow==2.9.7) (1.0.1)\n",
      "Requirement already satisfied: certifi>=2017.4.17 in /home/workspace/mambaforge/envs/full-stack-metaflow-corise/lib/python3.10/site-packages (from requests->metaflow==2.9.7) (2023.5.7)\n",
      "Requirement already satisfied: charset-normalizer<4,>=2 in /home/workspace/mambaforge/envs/full-stack-metaflow-corise/lib/python3.10/site-packages (from requests->metaflow==2.9.7) (3.1.0)\n",
      "Requirement already satisfied: idna<4,>=2.5 in /home/workspace/mambaforge/envs/full-stack-metaflow-corise/lib/python3.10/site-packages (from requests->metaflow==2.9.7) (3.4)\n",
      "Requirement already satisfied: urllib3<3,>=1.21.1 in /home/workspace/mambaforge/envs/full-stack-metaflow-corise/lib/python3.10/site-packages (from requests->metaflow==2.9.7) (1.26.16)\n",
      "Requirement already satisfied: python-dateutil<3.0.0,>=2.1 in /home/workspace/mambaforge/envs/full-stack-metaflow-corise/lib/python3.10/site-packages (from botocore<1.30.0,>=1.29.164->boto3->metaflow==2.9.7) (2.8.2)\n",
      "Requirement already satisfied: six>=1.5 in /home/workspace/mambaforge/envs/full-stack-metaflow-corise/lib/python3.10/site-packages (from python-dateutil<3.0.0,>=2.1->botocore<1.30.0,>=1.29.164->boto3->metaflow==2.9.7) (1.16.0)\n",
      "\u001b[33mWARNING: Ignoring invalid distribution -etaflow (/home/workspace/mambaforge/envs/full-stack-metaflow-corise/lib/python3.10/site-packages)\u001b[0m\u001b[33m\n",
      "\u001b[0m\u001b[33mWARNING: Ignoring invalid distribution -etaflow (/home/workspace/mambaforge/envs/full-stack-metaflow-corise/lib/python3.10/site-packages)\u001b[0m\u001b[33m\n",
      "\u001b[0m\u001b[33mWARNING: Ignoring invalid distribution -etaflow (/home/workspace/mambaforge/envs/full-stack-metaflow-corise/lib/python3.10/site-packages)\u001b[0m\u001b[33m\n",
      "\u001b[0m\u001b[33mWARNING: Ignoring invalid distribution -etaflow (/home/workspace/mambaforge/envs/full-stack-metaflow-corise/lib/python3.10/site-packages)\u001b[0m\u001b[33m\n",
      "\u001b[0m"
     ]
    }
   ],
   "source": [
    "! pip install metaflow==2.9.7"
   ]
  },
  {
   "attachments": {},
   "cell_type": "markdown",
   "metadata": {},
   "source": [
    "## Task 1: Deploy the champion\n",
    "Use what you have learned in the last two weeks to make necessary modifications and to deploy your latest version of the `TaxiFarePrediction` flow to Argo. Use `--branch champion` to denote this deployment as the champion model."
   ]
  },
  {
   "cell_type": "code",
   "execution_count": 3,
   "metadata": {},
   "outputs": [
    {
     "name": "stdout",
     "output_type": "stream",
     "text": [
      "Overwriting ../flows/cloud/event_triggered_linear_regression.py\n"
     ]
    }
   ],
   "source": [
    "%%writefile ../flows/cloud/event_triggered_linear_regression.py\n",
    "from metaflow import FlowSpec, step, card, conda_base, current, Parameter, Flow, trigger, project\n",
    "from metaflow.cards import Markdown, Table, Image, Artifact\n",
    "\n",
    "URL = \"https://outerbounds-datasets.s3.us-west-2.amazonaws.com/taxi/latest.parquet\"\n",
    "DATETIME_FORMAT = \"%Y-%m-%d %H:%M:%S\"\n",
    "\n",
    "\n",
    "@project(name=\"taxi_fare_prediction\")\n",
    "@conda_base(\n",
    "    libraries={\n",
    "        \"pandas\": \"2.1.2\",  # bump version\n",
    "        \"pyarrow\": \"13.0.0\", # bump version\n",
    "        #\"numpy\": \"1.21.2\",  # omit defining numpy since pandas comes with it\n",
    "        \"scikit-learn\": \"1.3.2\", # bump version\n",
    "    }\n",
    ")\n",
    "class TaxiFarePrediction(FlowSpec):\n",
    "    data_url = Parameter(\"data_url\", default=URL)\n",
    "\n",
    "    def transform_features(self, df):\n",
    "        import pandas as pd\n",
    "        # TODO:\n",
    "        # Try to complete tasks 2 and 3 with this function doing nothing like it currently is.\n",
    "        # Understand what is happening.\n",
    "        # Revisit task 1 and think about what might go in this function.\n",
    "        obviously_bad_data_filters = [\n",
    "            df.fare_amount > 0,  # fare_amount in US Dollars\n",
    "            df.trip_distance <= 100,  # trip_distance in miles\n",
    "            df.tip_amount >= 0,\n",
    "            df.mta_tax >= 0,\n",
    "            df.tolls_amount >= 0,\n",
    "            df.improvement_surcharge >= 0,\n",
    "            df.total_amount >= 0,\n",
    "            df.congestion_surcharge >= 0,\n",
    "            df.airport_fee >= 0,\n",
    "            df.trip_distance > 0,\n",
    "            pd.notna(df.trip_distance),\n",
    "            df.passenger_count > 0,\n",
    "            pd.notna(df.passenger_count)\n",
    "        ]\n",
    "        for f in obviously_bad_data_filters:\n",
    "            df = df[f]\n",
    "        df = df.reset_index(drop=True)\n",
    "\n",
    "        return df\n",
    "\n",
    "    @step\n",
    "    def start(self):\n",
    "        import pandas as pd\n",
    "        from sklearn.model_selection import train_test_split\n",
    "\n",
    "        self.df = self.transform_features(pd.read_parquet(self.data_url))\n",
    "\n",
    "        # NOTE: we are split into training and validation set in the validation step which uses cross_val_score.\n",
    "        # This is a simple/naive way to do this, and is meant to keep this example simple, to focus learning on deploying Metaflow flows.\n",
    "        # In practice, you want split time series data in more sophisticated ways and run backtests.\n",
    "        self.X = self.df[\"trip_distance\"].values.reshape(-1, 1)\n",
    "        self.y = self.df[\"total_amount\"].values\n",
    "        self.next(self.linear_model)\n",
    "\n",
    "    @step\n",
    "    def linear_model(self):\n",
    "        \"Fit a single variable, linear model to the data.\"\n",
    "        from sklearn.linear_model import LinearRegression\n",
    "\n",
    "        # TODO: Play around with the model if you are feeling it.\n",
    "        self.model = LinearRegression()\n",
    "\n",
    "        self.next(self.validate)\n",
    "\n",
    "    def gather_sibling_flow_run_results(self):\n",
    "        # storage to populate and feed to a Table in a Metaflow card\n",
    "        rows = []\n",
    "\n",
    "        # loop through runs of this flow\n",
    "        for run in Flow(self.__class__.__name__):\n",
    "            if run.id != current.run_id:\n",
    "                if run.successful:\n",
    "                    icon = \"✅\"\n",
    "                    msg = \"OK\"\n",
    "                    score = str(run.data.scores.mean())\n",
    "                else:\n",
    "                    icon = \"❌\"\n",
    "                    msg = \"Error\"\n",
    "                    score = \"NA\"\n",
    "                    for step in run:\n",
    "                        for task in step:\n",
    "                            if not task.successful:\n",
    "                                msg = task.stderr\n",
    "                row = [\n",
    "                    Markdown(icon),\n",
    "                    Artifact(run.id),\n",
    "                    Artifact(run.created_at.strftime(DATETIME_FORMAT)),\n",
    "                    Artifact(score),\n",
    "                    Markdown(msg),\n",
    "                ]\n",
    "                rows.append(row)\n",
    "            else:\n",
    "                rows.append(\n",
    "                    [\n",
    "                        Markdown(\"✅\"),\n",
    "                        Artifact(run.id),\n",
    "                        Artifact(run.created_at.strftime(DATETIME_FORMAT)),\n",
    "                        Artifact(str(self.scores.mean())),\n",
    "                        Markdown(\"This run...\"),\n",
    "                    ]\n",
    "                )\n",
    "        return rows\n",
    "\n",
    "    @card(type=\"corise\")\n",
    "    @step\n",
    "    def validate(self):\n",
    "        from sklearn.model_selection import cross_val_score\n",
    "\n",
    "        self.model_type = \"linear_regression\"\n",
    "        self.scores = cross_val_score(self.model, self.X, self.y, cv=5)\n",
    "        current.card.append(Markdown(\"# Taxi Fare Prediction Results\"))\n",
    "        current.card.append(\n",
    "            Table(\n",
    "                self.gather_sibling_flow_run_results(),\n",
    "                headers=[\"Pass/fail\", \"Run ID\", \"Created At\", \"R^2 score\", \"Stderr\"],\n",
    "            )\n",
    "        )\n",
    "        self.next(self.end)\n",
    "\n",
    "    @step\n",
    "    def end(self):\n",
    "        print(\"Success!\")\n",
    "\n",
    "\n",
    "if __name__ == \"__main__\":\n",
    "    TaxiFarePrediction()"
   ]
  },
  {
   "cell_type": "code",
   "execution_count": 4,
   "metadata": {},
   "outputs": [
    {
     "name": "stdout",
     "output_type": "stream",
     "text": [
      "\u001b[35m\u001b[1mMetaflow 2.9.7+ob(v1)\u001b[0m\u001b[35m\u001b[22m executing \u001b[0m\u001b[31m\u001b[1mTaxiFarePrediction\u001b[0m\u001b[35m\u001b[22m\u001b[0m\u001b[35m\u001b[22m for \u001b[0m\u001b[31m\u001b[1muser:sandbox\u001b[0m\u001b[35m\u001b[22m\u001b[K\u001b[0m\u001b[35m\u001b[22m\u001b[0m\n",
      "\u001b[35m\u001b[22mProject: \u001b[0m\u001b[32m\u001b[1mtaxi_fare_prediction\u001b[0m\u001b[35m\u001b[22m, Branch: \u001b[0m\u001b[32m\u001b[1mprod.champion\u001b[0m\u001b[35m\u001b[22m\u001b[K\u001b[0m\u001b[35m\u001b[22m\u001b[0m\n",
      "\u001b[35m\u001b[22mValidating your flow...\u001b[K\u001b[0m\u001b[35m\u001b[22m\u001b[0m\n",
      "\u001b[32m\u001b[1m    The graph looks good!\u001b[K\u001b[0m\u001b[32m\u001b[1m\u001b[0m\n",
      "\u001b[35m\u001b[22mRunning pylint...\u001b[K\u001b[0m\u001b[35m\u001b[22m\u001b[0m\n",
      "\u001b[32m\u001b[1m    Pylint is happy!\u001b[K\u001b[0m\u001b[32m\u001b[1m\u001b[0m\n",
      "\u001b[1mDeploying \u001b[0m\u001b[31m\u001b[1mtaxifareprediction.prod.champion.taxifareprediction\u001b[0m\u001b[1m to Argo Workflows...\u001b[K\u001b[0m\u001b[1m\u001b[0m\n",
      "\u001b[22m\u001b[K\u001b[0m\u001b[22m\u001b[0m\n",
      "\u001b[22mThe namespace of this production flow is\u001b[K\u001b[0m\u001b[22m\u001b[0m\n",
      "\u001b[32m\u001b[22m    production:mfprj-ovzw7jjg7psagpyw-0-pcke\u001b[K\u001b[0m\u001b[32m\u001b[22m\u001b[0m\n",
      "\u001b[22mTo analyze results of this production flow add this line in your notebooks:\u001b[K\u001b[0m\u001b[22m\u001b[0m\n",
      "\u001b[32m\u001b[22m    namespace(\"production:mfprj-ovzw7jjg7psagpyw-0-pcke\")\u001b[K\u001b[0m\u001b[32m\u001b[22m\u001b[0m\n",
      "\u001b[22mIf you want to authorize other people to deploy new versions of this flow to Argo Workflows, they need to call\u001b[K\u001b[0m\u001b[22m\u001b[0m\n",
      "\u001b[32m\u001b[22m    argo-workflows create --authorize mfprj-ovzw7jjg7psagpyw-0-pcke\u001b[K\u001b[0m\u001b[32m\u001b[22m\u001b[0m\n",
      "\u001b[22mwhen deploying this flow to Argo Workflows for the first time.\u001b[K\u001b[0m\u001b[22m\u001b[0m\n",
      "\u001b[22mSee \"Organizing Results\" at https://docs.metaflow.org/ for more information about production tokens.\u001b[K\u001b[0m\u001b[22m\u001b[0m\n",
      "\u001b[22m\u001b[K\u001b[0m\u001b[22m\u001b[0m\n",
      "\u001b[22mBootstrapping conda environment...(this could take a few minutes)\u001b[K\u001b[0m\u001b[22m\u001b[0m\n",
      "\u001b[1mWorkflow \u001b[0m\u001b[31m\u001b[1mtaxifareprediction.prod.champion.taxifareprediction\u001b[0m\u001b[1m for flow \u001b[0m\u001b[31m\u001b[1mTaxiFarePrediction\u001b[0m\u001b[1m pushed to Argo Workflows successfully.\n",
      "\u001b[K\u001b[0m\u001b[1m\u001b[0m\n",
      "\u001b[22mNote that the flow was deployed with a modified name due to Kubernetes naming conventions\n",
      "on Argo Workflows. The original flow name is stored in the workflow annotation.\n",
      "\u001b[K\u001b[0m\u001b[22m\u001b[0m\n",
      "\u001b[1mSee the deployed workflow here:\u001b[K\u001b[0m\u001b[1m\u001b[0m\n",
      "\u001b[22m    https://argo-pw-1569261171.outerbounds.dev/workflow-templates/jobs-pw-1569261171/taxifareprediction.prod.champion.taxifareprediction\n",
      "    \u001b[K\u001b[0m\u001b[22m\u001b[0m\n",
      "\u001b[1mWhat will trigger execution of the workflow:\u001b[K\u001b[0m\u001b[1m\u001b[0m\n",
      "\u001b[22m    No triggers defined. You need to launch this workflow manually.\u001b[K\u001b[0m\u001b[22m\u001b[0m\n"
     ]
    }
   ],
   "source": [
    "! python ../flows/cloud/event_triggered_linear_regression.py --environment=conda --with retry --production --branch champion --production argo-workflows create \n"
   ]
  },
  {
   "cell_type": "code",
   "execution_count": 5,
   "metadata": {},
   "outputs": [
    {
     "name": "stdout",
     "output_type": "stream",
     "text": [
      "\u001b[35m\u001b[1mMetaflow 2.9.7+ob(v1)\u001b[0m\u001b[35m\u001b[22m executing \u001b[0m\u001b[31m\u001b[1mTaxiFarePrediction\u001b[0m\u001b[35m\u001b[22m\u001b[0m\u001b[35m\u001b[22m for \u001b[0m\u001b[31m\u001b[1muser:sandbox\u001b[0m\u001b[35m\u001b[22m\u001b[K\u001b[0m\u001b[35m\u001b[22m\u001b[0m\n",
      "\u001b[35m\u001b[22mProject: \u001b[0m\u001b[32m\u001b[1mtaxi_fare_prediction\u001b[0m\u001b[35m\u001b[22m, Branch: \u001b[0m\u001b[32m\u001b[1mprod.champion\u001b[0m\u001b[35m\u001b[22m\u001b[K\u001b[0m\u001b[35m\u001b[22m\u001b[0m\n",
      "\u001b[35m\u001b[22mValidating your flow...\u001b[K\u001b[0m\u001b[35m\u001b[22m\u001b[0m\n",
      "\u001b[32m\u001b[1m    The graph looks good!\u001b[K\u001b[0m\u001b[32m\u001b[1m\u001b[0m\n",
      "\u001b[35m\u001b[22mRunning pylint...\u001b[K\u001b[0m\u001b[35m\u001b[22m\u001b[0m\n",
      "\u001b[32m\u001b[1m    Pylint is happy!\u001b[K\u001b[0m\u001b[32m\u001b[1m\u001b[0m\n",
      "\u001b[1mWorkflow \u001b[0m\u001b[31m\u001b[1mtaxifareprediction.prod.champion.taxifareprediction\u001b[0m\u001b[1m triggered on Argo Workflows (run-id \u001b[0m\u001b[31m\u001b[1margo-taxifareprediction.prod.champion.taxifareprediction-zj7t8\u001b[0m\u001b[1m).\u001b[K\u001b[0m\u001b[1m\u001b[0m\n",
      "\u001b[1mSee the run in the UI at https://ui-pw-1569261171.outerbounds.dev/TaxiFarePrediction/argo-taxifareprediction.prod.champion.taxifareprediction-zj7t8\u001b[K\u001b[0m\u001b[1m\u001b[0m\n"
     ]
    }
   ],
   "source": [
    "! python ../flows/cloud/event_triggered_linear_regression.py --environment=conda --production --branch champion --production argo-workflows trigger"
   ]
  },
  {
   "attachments": {},
   "cell_type": "markdown",
   "metadata": {},
   "source": [
    "## Task 2: Build the challenger\n",
    "Develop a second model, by using the same `TaxiFarePrediction` architecture. Then, deploy the flow to Argo as the `--branch challenger`. \n",
    "<br>\n",
    "<br>\n",
    "Hint: Modify the `linear_model` step. \n",
    "<br>\n",
    "Bonus: Write a paragraph summary of how you developed the second model and tested it before deploying the challenger flow. Let us know in Slack what you found challenging about the task? "
   ]
  },
  {
   "cell_type": "code",
   "execution_count": 7,
   "metadata": {},
   "outputs": [
    {
     "name": "stdout",
     "output_type": "stream",
     "text": [
      "Overwriting ../flows/cloud/event_triggered_xgb.py\n"
     ]
    }
   ],
   "source": [
    "%%writefile ../flows/cloud/event_triggered_xgb.py\n",
    "from metaflow import FlowSpec, step, card, conda_base, current, Parameter, Flow, trigger, project\n",
    "from metaflow.cards import Markdown, Table, Image, Artifact\n",
    "\n",
    "URL = \"https://outerbounds-datasets.s3.us-west-2.amazonaws.com/taxi/latest.parquet\"\n",
    "DATETIME_FORMAT = \"%Y-%m-%d %H:%M:%S\"\n",
    "\n",
    "\n",
    "@project(name=\"taxi_fare_prediction\")\n",
    "@conda_base(\n",
    "    libraries={\n",
    "        \"pandas\": \"2.1.2\",  # bump version\n",
    "        \"pyarrow\": \"13.0.0\", # bump version\n",
    "        #\"numpy\": \"1.21.2\",  # omit defining numpy since pandas comes with it\n",
    "        \"scikit-learn\": \"1.3.2\", # bump version\n",
    "        \"xgboost\": \"1.7.0\",\n",
    "    }\n",
    ")\n",
    "class TaxiFarePrediction(FlowSpec):\n",
    "    data_url = Parameter(\"data_url\", default=URL)\n",
    "\n",
    "    def transform_features(self, df):\n",
    "        import pandas as pd\n",
    "        # TODO:\n",
    "        # Try to complete tasks 2 and 3 with this function doing nothing like it currently is.\n",
    "        # Understand what is happening.\n",
    "        # Revisit task 1 and think about what might go in this function.\n",
    "        obviously_bad_data_filters = [\n",
    "            df.fare_amount > 0,  # fare_amount in US Dollars\n",
    "            df.trip_distance <= 100,  # trip_distance in miles\n",
    "            df.tip_amount >= 0,\n",
    "            df.mta_tax >= 0,\n",
    "            df.tolls_amount >= 0,\n",
    "            df.improvement_surcharge >= 0,\n",
    "            df.total_amount >= 0,\n",
    "            df.congestion_surcharge >= 0,\n",
    "            df.airport_fee >= 0,\n",
    "            df.trip_distance > 0,\n",
    "            pd.notna(df.trip_distance),\n",
    "            df.passenger_count > 0,\n",
    "            pd.notna(df.passenger_count)\n",
    "        ]\n",
    "        for f in obviously_bad_data_filters:\n",
    "            df = df[f]\n",
    "        df = df.reset_index(drop=True)\n",
    "\n",
    "        return df\n",
    "\n",
    "    @step\n",
    "    def start(self):\n",
    "        import pandas as pd\n",
    "        from sklearn.model_selection import train_test_split\n",
    "\n",
    "        self.df = self.transform_features(pd.read_parquet(self.data_url))\n",
    "\n",
    "        # NOTE: we are split into training and validation set in the validation step which uses cross_val_score.\n",
    "        # This is a simple/naive way to do this, and is meant to keep this example simple, to focus learning on deploying Metaflow flows.\n",
    "        # In practice, you want split time series data in more sophisticated ways and run backtests.\n",
    "        self.X = self.df[\"trip_distance\"].values.reshape(-1, 1)\n",
    "        self.y = self.df[\"total_amount\"].values\n",
    "        self.next(self.nonlinear_model)\n",
    "\n",
    "    @step\n",
    "    def nonlinear_model(self):\n",
    "        \"Fit a simple XGBoost Regression model.\"\n",
    "        from xgboost import XGBRegressor\n",
    "\n",
    "        # TODO: Play around with the model if you are feeling it.\n",
    "        self.model = XGBRegressor()\n",
    "\n",
    "        self.next(self.validate)\n",
    "\n",
    "    def gather_sibling_flow_run_results(self):\n",
    "        # storage to populate and feed to a Table in a Metaflow card\n",
    "        rows = []\n",
    "\n",
    "        # loop through runs of this flow\n",
    "        for run in Flow(self.__class__.__name__):\n",
    "            if run.id != current.run_id:\n",
    "                if run.successful:\n",
    "                    icon = \"✅\"\n",
    "                    msg = \"OK\"\n",
    "                    score = str(run.data.scores.mean())\n",
    "                else:\n",
    "                    icon = \"❌\"\n",
    "                    msg = \"Error\"\n",
    "                    score = \"NA\"\n",
    "                    for step in run:\n",
    "                        for task in step:\n",
    "                            if not task.successful:\n",
    "                                msg = task.stderr\n",
    "                row = [\n",
    "                    Markdown(icon),\n",
    "                    Artifact(run.id),\n",
    "                    Artifact(run.created_at.strftime(DATETIME_FORMAT)),\n",
    "                    Artifact(score),\n",
    "                    Markdown(msg),\n",
    "                ]\n",
    "                rows.append(row)\n",
    "            else:\n",
    "                rows.append(\n",
    "                    [\n",
    "                        Markdown(\"✅\"),\n",
    "                        Artifact(run.id),\n",
    "                        Artifact(run.created_at.strftime(DATETIME_FORMAT)),\n",
    "                        Artifact(str(self.scores.mean())),\n",
    "                        Markdown(\"This run...\"),\n",
    "                    ]\n",
    "                )\n",
    "        return rows\n",
    "\n",
    "    @card(type=\"corise\")\n",
    "    @step\n",
    "    def validate(self):\n",
    "        from sklearn.model_selection import cross_val_score\n",
    "\n",
    "        self.model_type = \"xgboost\"\n",
    "        self.scores = cross_val_score(self.model, self.X, self.y, cv=5)\n",
    "        current.card.append(Markdown(\"# Taxi Fare Prediction Results\"))\n",
    "        current.card.append(\n",
    "            Table(\n",
    "                self.gather_sibling_flow_run_results(),\n",
    "                headers=[\"Pass/fail\", \"Run ID\", \"Created At\", \"R^2 score\", \"Stderr\"],\n",
    "            )\n",
    "        )\n",
    "        self.next(self.end)\n",
    "\n",
    "    @step\n",
    "    def end(self):\n",
    "        print(\"Success!\")\n",
    "\n",
    "\n",
    "if __name__ == \"__main__\":\n",
    "    TaxiFarePrediction()"
   ]
  },
  {
   "cell_type": "code",
   "execution_count": 13,
   "metadata": {},
   "outputs": [
    {
     "name": "stdout",
     "output_type": "stream",
     "text": [
      "\u001b[35m\u001b[1mMetaflow 2.9.7+ob(v1)\u001b[0m\u001b[35m\u001b[22m executing \u001b[0m\u001b[31m\u001b[1mTaxiFarePrediction\u001b[0m\u001b[35m\u001b[22m\u001b[0m\u001b[35m\u001b[22m for \u001b[0m\u001b[31m\u001b[1muser:sandbox\u001b[0m\u001b[35m\u001b[22m\u001b[K\u001b[0m\u001b[35m\u001b[22m\u001b[0m\n",
      "\u001b[35m\u001b[22mProject: \u001b[0m\u001b[32m\u001b[1mtaxi_fare_prediction\u001b[0m\u001b[35m\u001b[22m, Branch: \u001b[0m\u001b[32m\u001b[1mprod.challenger\u001b[0m\u001b[35m\u001b[22m\u001b[K\u001b[0m\u001b[35m\u001b[22m\u001b[0m\n",
      "\u001b[35m\u001b[22mValidating your flow...\u001b[K\u001b[0m\u001b[35m\u001b[22m\u001b[0m\n",
      "\u001b[32m\u001b[1m    The graph looks good!\u001b[K\u001b[0m\u001b[32m\u001b[1m\u001b[0m\n",
      "\u001b[35m\u001b[22mRunning pylint...\u001b[K\u001b[0m\u001b[35m\u001b[22m\u001b[0m\n",
      "\u001b[32m\u001b[1m    Pylint is happy!\u001b[K\u001b[0m\u001b[32m\u001b[1m\u001b[0m\n",
      "\u001b[1mDeploying \u001b[0m\u001b[31m\u001b[1mtaxifareprediction.prod.challenger.taxifareprediction\u001b[0m\u001b[1m to Argo Workflows...\u001b[K\u001b[0m\u001b[1m\u001b[0m\n",
      "\u001b[22m\u001b[K\u001b[0m\u001b[22m\u001b[0m\n",
      "\u001b[22mThe namespace of this production flow is\u001b[K\u001b[0m\u001b[22m\u001b[0m\n",
      "\u001b[32m\u001b[22m    production:mfprj-6iffsxtybx6fkjku-0-crtx\u001b[K\u001b[0m\u001b[32m\u001b[22m\u001b[0m\n",
      "\u001b[22mTo analyze results of this production flow add this line in your notebooks:\u001b[K\u001b[0m\u001b[22m\u001b[0m\n",
      "\u001b[32m\u001b[22m    namespace(\"production:mfprj-6iffsxtybx6fkjku-0-crtx\")\u001b[K\u001b[0m\u001b[32m\u001b[22m\u001b[0m\n",
      "\u001b[22mIf you want to authorize other people to deploy new versions of this flow to Argo Workflows, they need to call\u001b[K\u001b[0m\u001b[22m\u001b[0m\n",
      "\u001b[32m\u001b[22m    argo-workflows create --authorize mfprj-6iffsxtybx6fkjku-0-crtx\u001b[K\u001b[0m\u001b[32m\u001b[22m\u001b[0m\n",
      "\u001b[22mwhen deploying this flow to Argo Workflows for the first time.\u001b[K\u001b[0m\u001b[22m\u001b[0m\n",
      "\u001b[22mSee \"Organizing Results\" at https://docs.metaflow.org/ for more information about production tokens.\u001b[K\u001b[0m\u001b[22m\u001b[0m\n",
      "\u001b[22m\u001b[K\u001b[0m\u001b[22m\u001b[0m\n",
      "\u001b[22mBootstrapping conda environment...(this could take a few minutes)\u001b[K\u001b[0m\u001b[22m\u001b[0m\n",
      "\u001b[1mWorkflow \u001b[0m\u001b[31m\u001b[1mtaxifareprediction.prod.challenger.taxifareprediction\u001b[0m\u001b[1m for flow \u001b[0m\u001b[31m\u001b[1mTaxiFarePrediction\u001b[0m\u001b[1m pushed to Argo Workflows successfully.\n",
      "\u001b[K\u001b[0m\u001b[1m\u001b[0m\n",
      "\u001b[22mNote that the flow was deployed with a modified name due to Kubernetes naming conventions\n",
      "on Argo Workflows. The original flow name is stored in the workflow annotation.\n",
      "\u001b[K\u001b[0m\u001b[22m\u001b[0m\n",
      "\u001b[1mSee the deployed workflow here:\u001b[K\u001b[0m\u001b[1m\u001b[0m\n",
      "\u001b[22m    https://argo-pw-1569261171.outerbounds.dev/workflow-templates/jobs-pw-1569261171/taxifareprediction.prod.challenger.taxifareprediction\n",
      "    \u001b[K\u001b[0m\u001b[22m\u001b[0m\n",
      "\u001b[1mWhat will trigger execution of the workflow:\u001b[K\u001b[0m\u001b[1m\u001b[0m\n",
      "\u001b[22m    No triggers defined. You need to launch this workflow manually.\u001b[K\u001b[0m\u001b[22m\u001b[0m\n"
     ]
    }
   ],
   "source": [
    "! python ../flows/cloud/event_triggered_xgb.py --environment=conda --with retry --production --branch challenger --production argo-workflows create \n"
   ]
  },
  {
   "cell_type": "code",
   "execution_count": 14,
   "metadata": {},
   "outputs": [
    {
     "name": "stdout",
     "output_type": "stream",
     "text": [
      "\u001b[35m\u001b[1mMetaflow 2.9.7+ob(v1)\u001b[0m\u001b[35m\u001b[22m executing \u001b[0m\u001b[31m\u001b[1mTaxiFarePrediction\u001b[0m\u001b[35m\u001b[22m\u001b[0m\u001b[35m\u001b[22m for \u001b[0m\u001b[31m\u001b[1muser:sandbox\u001b[0m\u001b[35m\u001b[22m\u001b[K\u001b[0m\u001b[35m\u001b[22m\u001b[0m\n",
      "\u001b[35m\u001b[22mProject: \u001b[0m\u001b[32m\u001b[1mtaxi_fare_prediction\u001b[0m\u001b[35m\u001b[22m, Branch: \u001b[0m\u001b[32m\u001b[1mprod.challenger\u001b[0m\u001b[35m\u001b[22m\u001b[K\u001b[0m\u001b[35m\u001b[22m\u001b[0m\n",
      "\u001b[35m\u001b[22mValidating your flow...\u001b[K\u001b[0m\u001b[35m\u001b[22m\u001b[0m\n",
      "\u001b[32m\u001b[1m    The graph looks good!\u001b[K\u001b[0m\u001b[32m\u001b[1m\u001b[0m\n",
      "\u001b[35m\u001b[22mRunning pylint...\u001b[K\u001b[0m\u001b[35m\u001b[22m\u001b[0m\n",
      "\u001b[32m\u001b[1m    Pylint is happy!\u001b[K\u001b[0m\u001b[32m\u001b[1m\u001b[0m\n",
      "\u001b[1mWorkflow \u001b[0m\u001b[31m\u001b[1mtaxifareprediction.prod.challenger.taxifareprediction\u001b[0m\u001b[1m triggered on Argo Workflows (run-id \u001b[0m\u001b[31m\u001b[1margo-taxifareprediction.prod.challenger.taxifareprediction-6r2fs\u001b[0m\u001b[1m).\u001b[K\u001b[0m\u001b[1m\u001b[0m\n",
      "\u001b[1mSee the run in the UI at https://ui-pw-1569261171.outerbounds.dev/TaxiFarePrediction/argo-taxifareprediction.prod.challenger.taxifareprediction-6r2fs\u001b[K\u001b[0m\u001b[1m\u001b[0m\n"
     ]
    }
   ],
   "source": [
    "! python ../flows/cloud/event_triggered_xgb.py --environment=conda --production --branch challenger --production argo-workflows trigger"
   ]
  },
  {
   "attachments": {},
   "cell_type": "markdown",
   "metadata": {},
   "source": [
    "## Task 3: Analyze the results\n",
    "Return to this notebook, and read in the results of the challenger and champion flow using the Metaflow Client API.\n",
    "<br><br>\n",
    "\n",
    "#### Questions\n",
    "- Does your model perform better on the metrics you selected?\n",
    "    - Yes, the challenger model (XGBoost model) performs better by mean cross-validation score.\n",
    "- Think about your day job, how would you go about assessing whether to roll forward the production \"champion\" to your new model? \n",
    "    - What gives you confidence one model is better than another?\n",
    "        - Superior model performance on recent data\n",
    "    - What kinds of information do you need to monitor to get buy-in from stakeholders that model A is preferable to model B? \n",
    "        - Repeated high model performance on datasets from multiple recent time windows\n",
    "        - Improved model performance on different segments (different groups of customers, data from different sources/channels, etc.)"
   ]
  },
  {
   "cell_type": "code",
   "execution_count": 16,
   "metadata": {},
   "outputs": [],
   "source": [
    "from metaflow import Flow, namespace\n",
    "\n",
    "# these values are unique to your deployment!\n",
    "CHAMPION_MODEL_NAMESPACE = \"production:mfprj-ovzw7jjg7psagpyw-0-pcke\" # \"production:mfprj-xsfdb3gtsiboqyrd-0-vqsy\"\n",
    "CHALLENGER_MODEL_NAMESPACE = \"production:mfprj-6iffsxtybx6fkjku-0-crtx\" # \"production:mfprj-cfyzlfzievjlmsf4-0-tbgz\"\n",
    "\n",
    "best_score = -1; winner = None; winner_namespace = None\n",
    "for n in [CHAMPION_MODEL_NAMESPACE, CHALLENGER_MODEL_NAMESPACE]:\n",
    "    namespace(n)\n",
    "    run = Flow('TaxiFarePrediction').latest_successful_run\n",
    "    scores = run.data.scores\n",
    "    mean_cv_score = sum(scores)/len(scores)\n",
    "    if mean_cv_score > best_score:\n",
    "        best_score = mean_cv_score\n",
    "        winner = run.data.model_type\n",
    "        winner_namespace = n"
   ]
  },
  {
   "cell_type": "code",
   "execution_count": 17,
   "metadata": {},
   "outputs": [
    {
     "name": "stdout",
     "output_type": "stream",
     "text": [
      "The winner is the xgboost model, with a mean CV score of 90.43%. You can find the model in the flow deployed to the production:mfprj-6iffsxtybx6fkjku-0-crtx namespace.\n"
     ]
    }
   ],
   "source": [
    "print(\"The winner is the {} model, with a mean CV score of {}%. You can find the model in the flow deployed to the {} namespace.\".format(winner, round(100*best_score, 2), winner_namespace))"
   ]
  },
  {
   "attachments": {},
   "cell_type": "markdown",
   "metadata": {},
   "source": [
    "## CONGRATULATIONS! 🎉✨🍾\n",
    "If you made it this far, you have completed the Full Stack Machine Learning Corise course. \n",
    "We are so glad that you chose to learn with us, and hope to see you again in future courses. Stay tuned for more content and come join us in [Slack](http://slack.outerbounds.co/) to keep learning about Metaflow!"
   ]
  }
 ],
 "metadata": {
  "kernelspec": {
   "display_name": "full-stack-metaflow",
   "language": "python",
   "name": "python3"
  },
  "language_info": {
   "codemirror_mode": {
    "name": "ipython",
    "version": 3
   },
   "file_extension": ".py",
   "mimetype": "text/x-python",
   "name": "python",
   "nbconvert_exporter": "python",
   "pygments_lexer": "ipython3",
   "version": "3.10.8"
  },
  "orig_nbformat": 4
 },
 "nbformat": 4,
 "nbformat_minor": 2
}
